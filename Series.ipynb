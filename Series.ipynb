{
  "metadata": {
    "language_info": {
      "codemirror_mode": {
        "name": "python",
        "version": 3
      },
      "file_extension": ".py",
      "mimetype": "text/x-python",
      "name": "python",
      "nbconvert_exporter": "python",
      "pygments_lexer": "ipython3",
      "version": "3.8"
    },
    "kernelspec": {
      "name": "python",
      "display_name": "Python (Pyodide)",
      "language": "python"
    }
  },
  "nbformat_minor": 4,
  "nbformat": 4,
  "cells": [
    {
      "cell_type": "code",
      "source": "2+2",
      "metadata": {
        "trusted": true
      },
      "execution_count": 2,
      "outputs": [
        {
          "execution_count": 2,
          "output_type": "execute_result",
          "data": {
            "text/plain": "4"
          },
          "metadata": {}
        }
      ]
    },
    {
      "cell_type": "code",
      "source": "1+2",
      "metadata": {
        "trusted": true
      },
      "execution_count": 3,
      "outputs": [
        {
          "execution_count": 3,
          "output_type": "execute_result",
          "data": {
            "text/plain": "3"
          },
          "metadata": {}
        }
      ]
    },
    {
      "cell_type": "code",
      "source": "400000000000*4",
      "metadata": {
        "trusted": true
      },
      "execution_count": 4,
      "outputs": [
        {
          "execution_count": 4,
          "output_type": "execute_result",
          "data": {
            "text/plain": "1600000000000"
          },
          "metadata": {}
        }
      ]
    },
    {
      "cell_type": "code",
      "source": "import pandas as pd\n\narray = [2, 4, 6, 8, 10, 12]\n\nseries_obj = pd.Series(array)\n\narr = series_obj.values\narr",
      "metadata": {
        "trusted": true
      },
      "execution_count": 14,
      "outputs": [
        {
          "execution_count": 14,
          "output_type": "execute_result",
          "data": {
            "text/plain": "array([ 2,  4,  6,  8, 10, 12], dtype=int64)"
          },
          "metadata": {}
        }
      ]
    },
    {
      "cell_type": "code",
      "source": "# reshaping series\nreshaped_arr = arr.reshape((2, 3))\n\nreshaped_arr",
      "metadata": {
        "trusted": true
      },
      "execution_count": 15,
      "outputs": [
        {
          "execution_count": 15,
          "output_type": "execute_result",
          "data": {
            "text/plain": "array([[ 2,  4,  6],\n       [ 8, 10, 12]], dtype=int64)"
          },
          "metadata": {}
        }
      ]
    },
    {
      "cell_type": "code",
      "source": "import pandas as pd\n# make an array\narray = [\"gulu\",\"baboon\",\n\"shru\", \"dada\",\n\"montu\",\"kainat\"]\n\nseries_obj = pd.Series(array)\n\nprint(\"Given Series:\\n\", series_obj)\n# convert series object into array\narr = series_obj.values\narr",
      "metadata": {
        "trusted": true
      },
      "execution_count": 17,
      "outputs": [
        {
          "name": "stdout",
          "text": "Given Series:\n 0      gulu\n1    baboon\n2      shru\n3      dada\n4     montu\n5    kainat\ndtype: object\n",
          "output_type": "stream"
        },
        {
          "execution_count": 17,
          "output_type": "execute_result",
          "data": {
            "text/plain": "array(['gulu', 'baboon', 'shru', 'dada', 'montu', 'kainat'], dtype=object)"
          },
          "metadata": {}
        }
      ]
    },
    {
      "cell_type": "code",
      "source": "# reshaping series\nreshaped_arr = arr.reshape((1,6))\n\nprint(\"After Reshaping: \\n\", reshaped_arr)\n",
      "metadata": {
        "trusted": true
      },
      "execution_count": 19,
      "outputs": [
        {
          "name": "stdout",
          "text": "After Reshaping: \n [['gulu' 'baboon' 'shru' 'dada' 'montu' 'kainat']]\n",
          "output_type": "stream"
        }
      ]
    },
    {
      "cell_type": "code",
      "source": "import pandas as pd\n\ndf = pd.DataFrame({'A': ['Johny', 'Lisa', 'Malkova'],\n'B': ['Scientist', 'Actor', 'Yoga'],\n'C': [27, 23, 21]})\ndf",
      "metadata": {
        "trusted": true
      },
      "execution_count": 25,
      "outputs": [
        {
          "execution_count": 25,
          "output_type": "execute_result",
          "data": {
            "text/plain": "         A          B   C\n0    Johny  Scientist  27\n1     Lisa      Actor  23\n2  Malkova       Yoga  21",
            "text/html": "<div>\n<style scoped>\n    .dataframe tbody tr th:only-of-type {\n        vertical-align: middle;\n    }\n\n    .dataframe tbody tr th {\n        vertical-align: top;\n    }\n\n    .dataframe thead th {\n        text-align: right;\n    }\n</style>\n<table border=\"1\" class=\"dataframe\">\n  <thead>\n    <tr style=\"text-align: right;\">\n      <th></th>\n      <th>A</th>\n      <th>B</th>\n      <th>C</th>\n    </tr>\n  </thead>\n  <tbody>\n    <tr>\n      <th>0</th>\n      <td>Johny</td>\n      <td>Scientist</td>\n      <td>27</td>\n    </tr>\n    <tr>\n      <th>1</th>\n      <td>Lisa</td>\n      <td>Actor</td>\n      <td>23</td>\n    </tr>\n    <tr>\n      <th>2</th>\n      <td>Malkova</td>\n      <td>Yoga</td>\n      <td>21</td>\n    </tr>\n  </tbody>\n</table>\n</div>"
          },
          "metadata": {}
        }
      ]
    },
    {
      "cell_type": "code",
      "source": "df.pivot('A', 'B', 'C')",
      "metadata": {
        "trusted": true
      },
      "execution_count": 26,
      "outputs": [
        {
          "name": "stderr",
          "text": "<ipython-input-26-d3da59eff764>:1: FutureWarning: In a future version of pandas all arguments of DataFrame.pivot will be keyword-only.\n  df.pivot('A', 'B', 'C')\n",
          "output_type": "stream"
        },
        {
          "execution_count": 26,
          "output_type": "execute_result",
          "data": {
            "text/plain": "B        Actor  Scientist  Yoga\nA                              \nJohny      NaN       27.0   NaN\nLisa      23.0        NaN   NaN\nMalkova    NaN        NaN  21.0",
            "text/html": "<div>\n<style scoped>\n    .dataframe tbody tr th:only-of-type {\n        vertical-align: middle;\n    }\n\n    .dataframe tbody tr th {\n        vertical-align: top;\n    }\n\n    .dataframe thead th {\n        text-align: right;\n    }\n</style>\n<table border=\"1\" class=\"dataframe\">\n  <thead>\n    <tr style=\"text-align: right;\">\n      <th>B</th>\n      <th>Actor</th>\n      <th>Scientist</th>\n      <th>Yoga</th>\n    </tr>\n    <tr>\n      <th>A</th>\n      <th></th>\n      <th></th>\n      <th></th>\n    </tr>\n  </thead>\n  <tbody>\n    <tr>\n      <th>Johny</th>\n      <td>NaN</td>\n      <td>27.0</td>\n      <td>NaN</td>\n    </tr>\n    <tr>\n      <th>Lisa</th>\n      <td>23.0</td>\n      <td>NaN</td>\n      <td>NaN</td>\n    </tr>\n    <tr>\n      <th>Malkova</th>\n      <td>NaN</td>\n      <td>NaN</td>\n      <td>21.0</td>\n    </tr>\n  </tbody>\n</table>\n</div>"
          },
          "metadata": {}
        }
      ]
    },
    {
      "cell_type": "code",
      "source": "df.pivot(index ='A', columns ='B', values =['C', 'A']",
      "metadata": {
        "trusted": true
      },
      "execution_count": 24,
      "outputs": [
        {
          "ename": "<class 'SyntaxError'>",
          "evalue": "incomplete input (<ipython-input-24-554c1221e1a8>, line 1)",
          "traceback": [
            "\u001b[0;36m  Cell \u001b[0;32mIn[24], line 1\u001b[0;36m\u001b[0m\n\u001b[0;31m    df.pivot(index ='A', columns ='B', values =['C', 'A']\u001b[0m\n\u001b[0m                                                         ^\u001b[0m\n\u001b[0;31mSyntaxError\u001b[0m\u001b[0;31m:\u001b[0m incomplete input\n"
          ],
          "output_type": "error"
        }
      ]
    },
    {
      "cell_type": "code",
      "source": "df = pd.DataFrame({'Name': ['Johny', 'Samsons', 'Steffy', 'Jordy', 'Emily', 'Tom'],\n'Gender': ['Male', 'Female', 'Female',\n'Male', 'Female', 'Male'],\n'Age': [45, 26, 24, 36, 32, 43]})\nprint(\"Dataset\")\nprint(df)\nprint(\"-\"*40)\n\ndef age_bucket(age):\n    if age <= 18:\n        return \"<18\"\n    else:\n        return \">18\"\ndf['Age Group'] = df['Age'].apply(age_bucket)\n\ngender = pd.DataFrame(df.Gender.value_counts(normalize=True)*100).reset_index()\ngender.columns = ['Gender', '%Gender']\ndf = pd.merge(left=df, right=gender, how='inner', on=['Gender'])\n# creating pivot table\ntable = pd.pivot_table(df, index=['Gender', '%Gender', 'Age Group'],\nvalues=['Name'], aggfunc={'Name': 'count',})\n# display table\nprint(\"Table\")\nprint(table)\n",
      "metadata": {
        "trusted": true
      },
      "execution_count": 28,
      "outputs": [
        {
          "name": "stdout",
          "text": "Dataset\n      Name  Gender  Age\n0    Johny    Male   45\n1  Samsons  Female   26\n2   Steffy  Female   24\n3    Jordy    Male   36\n4    Emily  Female   32\n5      Tom    Male   43\n----------------------------------------\nTable\n                          Name\nGender %Gender Age Group      \nFemale 50.0    >18           3\nMale   50.0    >18           3\n",
          "output_type": "stream"
        }
      ]
    },
    {
      "cell_type": "code",
      "source": "",
      "metadata": {},
      "execution_count": null,
      "outputs": []
    },
    {
      "cell_type": "code",
      "source": "",
      "metadata": {},
      "execution_count": null,
      "outputs": []
    }
  ]
}