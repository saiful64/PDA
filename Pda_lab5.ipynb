{
  "metadata": {
    "language_info": {
      "codemirror_mode": {
        "name": "python",
        "version": 3
      },
      "file_extension": ".py",
      "mimetype": "text/x-python",
      "name": "python",
      "nbconvert_exporter": "python",
      "pygments_lexer": "ipython3",
      "version": "3.8"
    },
    "kernelspec": {
      "name": "python",
      "display_name": "Python (Pyodide)",
      "language": "python"
    }
  },
  "nbformat_minor": 4,
  "nbformat": 4,
  "cells": [
    {
      "cell_type": "code",
      "source": "import re\ntxt = \"The rain in Spain\"\nx = re.findall(\"\\AThe \", txt)\nprint(x)\nif x:\n    print(\"Yes, there is a match!\")\nelse:\n        print(\"No match!\")",
      "metadata": {
        "trusted": true
      },
      "execution_count": 1,
      "outputs": [
        {
          "name": "stdout",
          "text": "['The ']\nYes, there is a match!\n",
          "output_type": "stream"
        }
      ]
    },
    {
      "cell_type": "code",
      "source": "match = re.search(r'portal', 'A computer science \\ portal for Education')\nprint(match)\nprint(match.group())\n\nprint('Start Index:' ,match.start())\nprint('End Index:', match.end())",
      "metadata": {
        "trusted": true
      },
      "execution_count": 2,
      "outputs": [
        {
          "name": "stdout",
          "text": "<re.Match object; span=(21, 27), match='portal'>\nportal\nStart Index: 21\nEnd Index: 27\n",
          "output_type": "stream"
        }
      ]
    },
    {
      "cell_type": "code",
      "source": "print(re.findall(r'[Ee]ducation', 'Education of education: \\ A computer science portal for education'))",
      "metadata": {
        "trusted": true
      },
      "execution_count": 4,
      "outputs": [
        {
          "name": "stdout",
          "text": "['Education', 'education', 'education']\n",
          "output_type": "stream"
        }
      ]
    },
    {
      "cell_type": "code",
      "source": "print('Range', re.search(r'[a-zA-Z]','x'))",
      "metadata": {
        "trusted": true
      },
      "execution_count": 5,
      "outputs": [
        {
          "name": "stdout",
          "text": "Range <re.Match object; span=(0, 1), match='x'>\n",
          "output_type": "stream"
        }
      ]
    },
    {
      "cell_type": "code",
      "source": "x = range(3,6)\nfor n in x:\n    print(n)",
      "metadata": {
        "trusted": true
      },
      "execution_count": 6,
      "outputs": [
        {
          "name": "stdout",
          "text": "3\n4\n5\n",
          "output_type": "stream"
        }
      ]
    },
    {
      "cell_type": "code",
      "source": "x = range(3, 20, 2)\nfor n in x:\n    print(n)",
      "metadata": {
        "trusted": true
      },
      "execution_count": 7,
      "outputs": [
        {
          "name": "stdout",
          "text": "3\n5\n7\n9\n11\n13\n15\n17\n19\n",
          "output_type": "stream"
        }
      ]
    },
    {
      "cell_type": "code",
      "source": "print(re.search(r'[^a-z]', 'c'))",
      "metadata": {
        "trusted": true
      },
      "execution_count": 8,
      "outputs": [
        {
          "name": "stdout",
          "text": "None\n",
          "output_type": "stream"
        }
      ]
    },
    {
      "cell_type": "code",
      "source": "match = re.search(r'^is', 'This is the month')\nprint('Beg.of String:', match)\nmatch = re.search(r'^is', 'is the month')\nprint('Beg.of String:', match)\nmatch = re.search(r'education$', 'Computer science portal for education')\nprint('End of String:', match)",
      "metadata": {
        "trusted": true
      },
      "execution_count": 9,
      "outputs": [
        {
          "name": "stdout",
          "text": "Beg.of String: None\nBeg.of String: <re.Match object; span=(0, 2), match='is'>\nEnd of String: <re.Match object; span=(28, 37), match='education'>\n",
          "output_type": "stream"
        }
      ]
    },
    {
      "cell_type": "code",
      "source": "print('Any Character', re.search(r'p.th.n', 'python 3'))",
      "metadata": {
        "trusted": true
      },
      "execution_count": 10,
      "outputs": [
        {
          "name": "stdout",
          "text": "Any Character <re.Match object; span=(0, 6), match='python'>\n",
          "output_type": "stream"
        }
      ]
    },
    {
      "cell_type": "code",
      "source": "print('Color', re.search(r'colou?r', 'color'))\nprint('Colour', re.search(r'colou?r', 'colour'))",
      "metadata": {
        "trusted": true
      },
      "execution_count": 11,
      "outputs": [
        {
          "name": "stdout",
          "text": "Color <re.Match object; span=(0, 5), match='color'>\nColour <re.Match object; span=(0, 6), match='colour'>\n",
          "output_type": "stream"
        }
      ]
    },
    {
      "cell_type": "code",
      "source": "print('Date{mm-dd-yyyy}:', re.search(r'[\\d]{2}-[\\d]{2}-[\\d]{4}','13-07-2023'))",
      "metadata": {
        "trusted": true
      },
      "execution_count": 12,
      "outputs": [
        {
          "name": "stdout",
          "text": "Date{mm-dd-yyyy}: <re.Match object; span=(0, 10), match='13-07-2023'>\n",
          "output_type": "stream"
        }
      ]
    },
    {
      "cell_type": "code",
      "source": "print('Three Digit:', re.search(r'[\\d]{3,4}', '189'))\nprint('Four Digit:', re.search(r'[\\d]{3,4}', '2145'))",
      "metadata": {
        "trusted": true
      },
      "execution_count": 15,
      "outputs": [
        {
          "name": "stdout",
          "text": "Three Digit: <re.Match object; span=(0, 3), match='189'>\nFour Digit: <re.Match object; span=(0, 4), match='2145'>\n",
          "output_type": "stream"
        }
      ]
    },
    {
      "cell_type": "code",
      "source": "print(re.search(r'[\\d]{1,}','5th Floor, B-218,\\Sector-136, Noida, Uttar Pradesh - 201405'))",
      "metadata": {
        "trusted": true
      },
      "execution_count": 19,
      "outputs": [
        {
          "name": "stdout",
          "text": "<re.Match object; span=(0, 1), match='5'>\n",
          "output_type": "stream"
        }
      ]
    },
    {
      "cell_type": "code",
      "source": "print(re.search(r'[\\d]+','5th Floor, B-218,\\Sector-136, Noida, Uttar Pradesh - 201405'))",
      "metadata": {
        "trusted": true
      },
      "execution_count": 16,
      "outputs": [
        {
          "name": "stdout",
          "text": "<re.Match object; span=(0, 1), match='5'>\n",
          "output_type": "stream"
        }
      ]
    },
    {
      "cell_type": "code",
      "source": "grp = re.search(r'([\\d]{2})-([\\d]{2})-([\\d]{4})', '12-07-2023')\nprint(grp)",
      "metadata": {
        "trusted": true
      },
      "execution_count": 17,
      "outputs": [
        {
          "name": "stdout",
          "text": "<re.Match object; span=(0, 10), match='12-07-2023'>\n",
          "output_type": "stream"
        }
      ]
    },
    {
      "cell_type": "code",
      "source": "grp = re.search(r'([\\d]{2})-([\\d]{2})-([\\d]{4})', '14-07-2023')\nprint(grp.groups())",
      "metadata": {
        "trusted": true
      },
      "execution_count": 18,
      "outputs": [
        {
          "name": "stdout",
          "text": "('14', '07', '2023')\n",
          "output_type": "stream"
        }
      ]
    },
    {
      "cell_type": "code",
      "source": "grp = re.search(r'([\\d]{2})-([\\d]{2})-([\\d]{4})','14-07-2023')\nprint(grp.group(3))",
      "metadata": {
        "trusted": true
      },
      "execution_count": 20,
      "outputs": [
        {
          "name": "stdout",
          "text": "2023\n",
          "output_type": "stream"
        }
      ]
    },
    {
      "cell_type": "code",
      "source": "grp = re.search(r'(?P<dd>[\\d]{2})-(?P<mm>[\\d]{2})-(?P<yyyy>[\\d]{4})','14-07-2023')\nprint(grp.group('dd'))",
      "metadata": {
        "trusted": true
      },
      "execution_count": 21,
      "outputs": [
        {
          "name": "stdout",
          "text": "14\n",
          "output_type": "stream"
        }
      ]
    },
    {
      "cell_type": "code",
      "source": "grp = re.search(r'(?P<dd>[\\d]{2})-(?P<mm>[\\d]{2})-(?P<yyyy>[\\d]{4})','14-07-2023')\nprint(grp.groupdict())",
      "metadata": {
        "trusted": true
      },
      "execution_count": 22,
      "outputs": [
        {
          "name": "stdout",
          "text": "{'dd': '14', 'mm': '07', 'yyyy': '2023'}\n",
          "output_type": "stream"
        }
      ]
    },
    {
      "cell_type": "code",
      "source": "print('negation:',re.search(r'n[^e]', 'Pyhton'))\nprint('lookahead:',re.search(r'n(?!e)', 'Pyhton'))",
      "metadata": {
        "trusted": true
      },
      "execution_count": 23,
      "outputs": [
        {
          "name": "stdout",
          "text": "negation: None\nlookahead: <re.Match object; span=(5, 6), match='n'>\n",
          "output_type": "stream"
        }
      ]
    },
    {
      "cell_type": "code",
      "source": "print('positive lookahead', re.search(r'n(?=e)', 'jasmine'))",
      "metadata": {
        "trusted": true
      },
      "execution_count": 24,
      "outputs": [
        {
          "name": "stdout",
          "text": "positive lookahead <re.Match object; span=(5, 6), match='n'>\n",
          "output_type": "stream"
        }
      ]
    },
    {
      "cell_type": "code",
      "source": "print(re.sub(r'([\\d]{4})-([\\d]{4})-([\\d]{4})-([\\d]{4})',r'\\1\\2\\3\\4','1111-2222-3333-4444'))",
      "metadata": {
        "trusted": true
      },
      "execution_count": 25,
      "outputs": [
        {
          "name": "stdout",
          "text": "1111222233334444\n",
          "output_type": "stream"
        }
      ]
    },
    {
      "cell_type": "code",
      "source": "regex = re.compile(r'([\\d]{2})-([\\d]{2})-([\\d]{4})')\nprint('compiled reg expr', regex.search('13-07-2023'))\nprint(regex.sub(r'\\1.\\2.\\3','13-07-2023'))",
      "metadata": {
        "trusted": true
      },
      "execution_count": 26,
      "outputs": [
        {
          "name": "stdout",
          "text": "compiled reg expr <re.Match object; span=(0, 10), match='13-07-2023'>\n13.07.2023\n",
          "output_type": "stream"
        }
      ]
    }
  ]
}