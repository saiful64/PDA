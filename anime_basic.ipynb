{
  "metadata": {
    "language_info": {
      "codemirror_mode": {
        "name": "python",
        "version": 3
      },
      "file_extension": ".py",
      "mimetype": "text/x-python",
      "name": "python",
      "nbconvert_exporter": "python",
      "pygments_lexer": "ipython3",
      "version": "3.8"
    },
    "kernelspec": {
      "name": "python",
      "display_name": "Python (Pyodide)",
      "language": "python"
    }
  },
  "nbformat_minor": 4,
  "nbformat": 4,
  "cells": [
    {
      "cell_type": "code",
      "source": "import pandas as pd\nanime = pd.read_csv('anime.csv')\nanime.head(50)",
      "metadata": {
        "trusted": true
      },
      "execution_count": 1,
      "outputs": [
        {
          "execution_count": 1,
          "output_type": "execute_result",
          "data": {
            "text/plain": "    anime_id                                               name  \\\n0      32281                                     Kimi no Na wa.   \n1       5114                   Fullmetal Alchemist: Brotherhood   \n2      28977                                           Gintama°   \n3       9253                                        Steins;Gate   \n4       9969                                      Gintama&#039;   \n5      32935  Haikyuu!!: Karasuno Koukou VS Shiratorizawa Ga...   \n6      11061                             Hunter x Hunter (2011)   \n7        820                               Ginga Eiyuu Densetsu   \n8      15335  Gintama Movie: Kanketsu-hen - Yorozuya yo Eien...   \n9      15417                           Gintama&#039;: Enchousen   \n10      4181                               Clannad: After Story   \n11     28851                                     Koe no Katachi   \n12       918                                            Gintama   \n13      2904                 Code Geass: Hangyaku no Lelouch R2   \n14     28891                            Haikyuu!! Second Season   \n15       199                      Sen to Chihiro no Kamikakushi   \n16     23273                            Shigatsu wa Kimi no Uso   \n17     24701                      Mushishi Zoku Shou 2nd Season   \n18     12355                       Ookami Kodomo no Ame to Yuki   \n19      1575                    Code Geass: Hangyaku no Lelouch   \n20       263                                     Hajime no Ippo   \n21        44  Rurouni Kenshin: Meiji Kenkaku Romantan - Tsui...   \n22         1                                       Cowboy Bebop   \n23     30276                                      One Punch Man   \n24       164                                      Mononoke Hime   \n25      7311                      Suzumiya Haruhi no Shoushitsu   \n26     17074                   Monogatari Series: Second Season   \n27     21939                                 Mushishi Zoku Shou   \n28       457                                           Mushishi   \n29      2001                         Tengen Toppa Gurren Lagann   \n30       245                              Great Teacher Onizuka   \n31     32983                              Natsume Yuujinchou Go   \n32      5258                     Hajime no Ippo: New Challenger   \n33     28957                Mushishi Zoku Shou: Suzu no Shizuku   \n34     11665                             Natsume Yuujinchou Shi   \n35       431                                Howl no Ugoku Shiro   \n36     11741                               Fate/Zero 2nd Season   \n37     31757                    Kizumonogatari II: Nekketsu-hen   \n38        19                                            Monster   \n39     12365                                Bakuman. 3rd Season   \n40      1535                                         Death Note   \n41     32366                         Gintama°: Aizome Kaori-hen   \n42     30654                 Ansatsu Kyoushitsu (TV) 2nd Season   \n43     20583                                          Haikyuu!!   \n44     19647                             Hajime no Ippo: Rising   \n45      4282                     Kara no Kyoukai 5: Mujun Rasen   \n46     10379                             Natsume Yuujinchou San   \n47     22135                            Ping Pong The Animation   \n48     21329                       Mushishi Special: Hihamukage   \n49     31043                            Boku dake ga Inai Machi   \n\n                                                genre     type episodes  \\\n0                Drama, Romance, School, Supernatural    Movie        1   \n1   Action, Adventure, Drama, Fantasy, Magic, Mili...       TV       64   \n2   Action, Comedy, Historical, Parody, Samurai, S...       TV       51   \n3                                    Sci-Fi, Thriller       TV       24   \n4   Action, Comedy, Historical, Parody, Samurai, S...       TV       51   \n5              Comedy, Drama, School, Shounen, Sports       TV       10   \n6             Action, Adventure, Shounen, Super Power       TV      148   \n7                      Drama, Military, Sci-Fi, Space      OVA      110   \n8   Action, Comedy, Historical, Parody, Samurai, S...    Movie        1   \n9   Action, Comedy, Historical, Parody, Samurai, S...       TV       13   \n10  Drama, Fantasy, Romance, Slice of Life, Supern...       TV       24   \n11                             Drama, School, Shounen    Movie        1   \n12  Action, Comedy, Historical, Parody, Samurai, S...       TV      201   \n13  Action, Drama, Mecha, Military, Sci-Fi, Super ...       TV       25   \n14             Comedy, Drama, School, Shounen, Sports       TV       25   \n15                     Adventure, Drama, Supernatural    Movie        1   \n16             Drama, Music, Romance, School, Shounen       TV       22   \n17  Adventure, Fantasy, Historical, Mystery, Seine...       TV       10   \n18                             Fantasy, Slice of Life    Movie        1   \n19  Action, Mecha, Military, School, Sci-Fi, Super...       TV       25   \n20                     Comedy, Drama, Shounen, Sports       TV       75   \n21  Action, Drama, Historical, Martial Arts, Roman...      OVA        4   \n22    Action, Adventure, Comedy, Drama, Sci-Fi, Space       TV       26   \n23  Action, Comedy, Parody, Sci-Fi, Seinen, Super ...       TV       12   \n24                         Action, Adventure, Fantasy    Movie        1   \n25  Comedy, Mystery, Romance, School, Sci-Fi, Supe...    Movie        1   \n26    Comedy, Mystery, Romance, Supernatural, Vampire       TV       26   \n27  Adventure, Fantasy, Historical, Mystery, Seine...       TV       10   \n28  Adventure, Fantasy, Historical, Mystery, Seine...       TV       26   \n29           Action, Adventure, Comedy, Mecha, Sci-Fi       TV       27   \n30      Comedy, Drama, School, Shounen, Slice of Life       TV       43   \n31  Drama, Fantasy, Shoujo, Slice of Life, Superna...       TV       13   \n32                     Comedy, Drama, Shounen, Sports       TV       26   \n33  Adventure, Fantasy, Historical, Mystery, Seine...    Movie        1   \n34  Drama, Fantasy, Shoujo, Slice of Life, Superna...       TV       13   \n35                 Adventure, Drama, Fantasy, Romance    Movie        1   \n36            Action, Fantasy, Supernatural, Thriller       TV       12   \n37             Action, Mystery, Supernatural, Vampire    Movie        1   \n38  Drama, Horror, Mystery, Police, Psychological,...       TV       74   \n39                    Comedy, Drama, Romance, Shounen       TV       25   \n40  Mystery, Police, Psychological, Supernatural, ...       TV       37   \n41                                     Comedy, Parody      OVA        2   \n42                    Action, Comedy, School, Shounen       TV       25   \n43             Comedy, Drama, School, Shounen, Sports       TV       25   \n44                     Comedy, Drama, Shounen, Sports       TV       25   \n45  Action, Drama, Mystery, Romance, Supernatural,...    Movie        1   \n46  Drama, Fantasy, Shoujo, Slice of Life, Superna...       TV       13   \n47                      Psychological, Seinen, Sports       TV       11   \n48  Adventure, Fantasy, Historical, Mystery, Seine...  Special        1   \n49       Mystery, Psychological, Seinen, Supernatural       TV       12   \n\n    rating  members  \n0     9.37   200630  \n1     9.26   793665  \n2     9.25   114262  \n3     9.17   673572  \n4     9.16   151266  \n5     9.15    93351  \n6     9.13   425855  \n7     9.11    80679  \n8     9.10    72534  \n9     9.11    81109  \n10    9.06   456749  \n11    9.05   102733  \n12    9.04   336376  \n13    8.98   572888  \n14    8.93   179342  \n15    8.93   466254  \n16    8.92   416397  \n17    8.88    75894  \n18    8.84   226193  \n19    8.83   715151  \n20    8.83   157670  \n21    8.83   129307  \n22    8.82   486824  \n23    8.82   552458  \n24    8.81   339556  \n25    8.81   240297  \n26    8.80   205959  \n27    8.80   101351  \n28    8.78   300030  \n29    8.78   562962  \n30    8.77   268487  \n31    8.76    38865  \n32    8.75    88995  \n33    8.75    32266  \n34    8.75    98431  \n35    8.74   333186  \n36    8.73   340973  \n37    8.73    34347  \n38    8.72   247562  \n39    8.71   133620  \n40    8.71  1013917  \n41    8.69    16947  \n42    8.68   176475  \n43    8.68   284498  \n44    8.68    66756  \n45    8.68   111074  \n46    8.67   102322  \n47    8.67    97187  \n48    8.66    49036  \n49    8.65   402381  ",
            "text/html": "<div>\n<style scoped>\n    .dataframe tbody tr th:only-of-type {\n        vertical-align: middle;\n    }\n\n    .dataframe tbody tr th {\n        vertical-align: top;\n    }\n\n    .dataframe thead th {\n        text-align: right;\n    }\n</style>\n<table border=\"1\" class=\"dataframe\">\n  <thead>\n    <tr style=\"text-align: right;\">\n      <th></th>\n      <th>anime_id</th>\n      <th>name</th>\n      <th>genre</th>\n      <th>type</th>\n      <th>episodes</th>\n      <th>rating</th>\n      <th>members</th>\n    </tr>\n  </thead>\n  <tbody>\n    <tr>\n      <th>0</th>\n      <td>32281</td>\n      <td>Kimi no Na wa.</td>\n      <td>Drama, Romance, School, Supernatural</td>\n      <td>Movie</td>\n      <td>1</td>\n      <td>9.37</td>\n      <td>200630</td>\n    </tr>\n    <tr>\n      <th>1</th>\n      <td>5114</td>\n      <td>Fullmetal Alchemist: Brotherhood</td>\n      <td>Action, Adventure, Drama, Fantasy, Magic, Mili...</td>\n      <td>TV</td>\n      <td>64</td>\n      <td>9.26</td>\n      <td>793665</td>\n    </tr>\n    <tr>\n      <th>2</th>\n      <td>28977</td>\n      <td>Gintama°</td>\n      <td>Action, Comedy, Historical, Parody, Samurai, S...</td>\n      <td>TV</td>\n      <td>51</td>\n      <td>9.25</td>\n      <td>114262</td>\n    </tr>\n    <tr>\n      <th>3</th>\n      <td>9253</td>\n      <td>Steins;Gate</td>\n      <td>Sci-Fi, Thriller</td>\n      <td>TV</td>\n      <td>24</td>\n      <td>9.17</td>\n      <td>673572</td>\n    </tr>\n    <tr>\n      <th>4</th>\n      <td>9969</td>\n      <td>Gintama&amp;#039;</td>\n      <td>Action, Comedy, Historical, Parody, Samurai, S...</td>\n      <td>TV</td>\n      <td>51</td>\n      <td>9.16</td>\n      <td>151266</td>\n    </tr>\n    <tr>\n      <th>5</th>\n      <td>32935</td>\n      <td>Haikyuu!!: Karasuno Koukou VS Shiratorizawa Ga...</td>\n      <td>Comedy, Drama, School, Shounen, Sports</td>\n      <td>TV</td>\n      <td>10</td>\n      <td>9.15</td>\n      <td>93351</td>\n    </tr>\n    <tr>\n      <th>6</th>\n      <td>11061</td>\n      <td>Hunter x Hunter (2011)</td>\n      <td>Action, Adventure, Shounen, Super Power</td>\n      <td>TV</td>\n      <td>148</td>\n      <td>9.13</td>\n      <td>425855</td>\n    </tr>\n    <tr>\n      <th>7</th>\n      <td>820</td>\n      <td>Ginga Eiyuu Densetsu</td>\n      <td>Drama, Military, Sci-Fi, Space</td>\n      <td>OVA</td>\n      <td>110</td>\n      <td>9.11</td>\n      <td>80679</td>\n    </tr>\n    <tr>\n      <th>8</th>\n      <td>15335</td>\n      <td>Gintama Movie: Kanketsu-hen - Yorozuya yo Eien...</td>\n      <td>Action, Comedy, Historical, Parody, Samurai, S...</td>\n      <td>Movie</td>\n      <td>1</td>\n      <td>9.10</td>\n      <td>72534</td>\n    </tr>\n    <tr>\n      <th>9</th>\n      <td>15417</td>\n      <td>Gintama&amp;#039;: Enchousen</td>\n      <td>Action, Comedy, Historical, Parody, Samurai, S...</td>\n      <td>TV</td>\n      <td>13</td>\n      <td>9.11</td>\n      <td>81109</td>\n    </tr>\n    <tr>\n      <th>10</th>\n      <td>4181</td>\n      <td>Clannad: After Story</td>\n      <td>Drama, Fantasy, Romance, Slice of Life, Supern...</td>\n      <td>TV</td>\n      <td>24</td>\n      <td>9.06</td>\n      <td>456749</td>\n    </tr>\n    <tr>\n      <th>11</th>\n      <td>28851</td>\n      <td>Koe no Katachi</td>\n      <td>Drama, School, Shounen</td>\n      <td>Movie</td>\n      <td>1</td>\n      <td>9.05</td>\n      <td>102733</td>\n    </tr>\n    <tr>\n      <th>12</th>\n      <td>918</td>\n      <td>Gintama</td>\n      <td>Action, Comedy, Historical, Parody, Samurai, S...</td>\n      <td>TV</td>\n      <td>201</td>\n      <td>9.04</td>\n      <td>336376</td>\n    </tr>\n    <tr>\n      <th>13</th>\n      <td>2904</td>\n      <td>Code Geass: Hangyaku no Lelouch R2</td>\n      <td>Action, Drama, Mecha, Military, Sci-Fi, Super ...</td>\n      <td>TV</td>\n      <td>25</td>\n      <td>8.98</td>\n      <td>572888</td>\n    </tr>\n    <tr>\n      <th>14</th>\n      <td>28891</td>\n      <td>Haikyuu!! Second Season</td>\n      <td>Comedy, Drama, School, Shounen, Sports</td>\n      <td>TV</td>\n      <td>25</td>\n      <td>8.93</td>\n      <td>179342</td>\n    </tr>\n    <tr>\n      <th>15</th>\n      <td>199</td>\n      <td>Sen to Chihiro no Kamikakushi</td>\n      <td>Adventure, Drama, Supernatural</td>\n      <td>Movie</td>\n      <td>1</td>\n      <td>8.93</td>\n      <td>466254</td>\n    </tr>\n    <tr>\n      <th>16</th>\n      <td>23273</td>\n      <td>Shigatsu wa Kimi no Uso</td>\n      <td>Drama, Music, Romance, School, Shounen</td>\n      <td>TV</td>\n      <td>22</td>\n      <td>8.92</td>\n      <td>416397</td>\n    </tr>\n    <tr>\n      <th>17</th>\n      <td>24701</td>\n      <td>Mushishi Zoku Shou 2nd Season</td>\n      <td>Adventure, Fantasy, Historical, Mystery, Seine...</td>\n      <td>TV</td>\n      <td>10</td>\n      <td>8.88</td>\n      <td>75894</td>\n    </tr>\n    <tr>\n      <th>18</th>\n      <td>12355</td>\n      <td>Ookami Kodomo no Ame to Yuki</td>\n      <td>Fantasy, Slice of Life</td>\n      <td>Movie</td>\n      <td>1</td>\n      <td>8.84</td>\n      <td>226193</td>\n    </tr>\n    <tr>\n      <th>19</th>\n      <td>1575</td>\n      <td>Code Geass: Hangyaku no Lelouch</td>\n      <td>Action, Mecha, Military, School, Sci-Fi, Super...</td>\n      <td>TV</td>\n      <td>25</td>\n      <td>8.83</td>\n      <td>715151</td>\n    </tr>\n    <tr>\n      <th>20</th>\n      <td>263</td>\n      <td>Hajime no Ippo</td>\n      <td>Comedy, Drama, Shounen, Sports</td>\n      <td>TV</td>\n      <td>75</td>\n      <td>8.83</td>\n      <td>157670</td>\n    </tr>\n    <tr>\n      <th>21</th>\n      <td>44</td>\n      <td>Rurouni Kenshin: Meiji Kenkaku Romantan - Tsui...</td>\n      <td>Action, Drama, Historical, Martial Arts, Roman...</td>\n      <td>OVA</td>\n      <td>4</td>\n      <td>8.83</td>\n      <td>129307</td>\n    </tr>\n    <tr>\n      <th>22</th>\n      <td>1</td>\n      <td>Cowboy Bebop</td>\n      <td>Action, Adventure, Comedy, Drama, Sci-Fi, Space</td>\n      <td>TV</td>\n      <td>26</td>\n      <td>8.82</td>\n      <td>486824</td>\n    </tr>\n    <tr>\n      <th>23</th>\n      <td>30276</td>\n      <td>One Punch Man</td>\n      <td>Action, Comedy, Parody, Sci-Fi, Seinen, Super ...</td>\n      <td>TV</td>\n      <td>12</td>\n      <td>8.82</td>\n      <td>552458</td>\n    </tr>\n    <tr>\n      <th>24</th>\n      <td>164</td>\n      <td>Mononoke Hime</td>\n      <td>Action, Adventure, Fantasy</td>\n      <td>Movie</td>\n      <td>1</td>\n      <td>8.81</td>\n      <td>339556</td>\n    </tr>\n    <tr>\n      <th>25</th>\n      <td>7311</td>\n      <td>Suzumiya Haruhi no Shoushitsu</td>\n      <td>Comedy, Mystery, Romance, School, Sci-Fi, Supe...</td>\n      <td>Movie</td>\n      <td>1</td>\n      <td>8.81</td>\n      <td>240297</td>\n    </tr>\n    <tr>\n      <th>26</th>\n      <td>17074</td>\n      <td>Monogatari Series: Second Season</td>\n      <td>Comedy, Mystery, Romance, Supernatural, Vampire</td>\n      <td>TV</td>\n      <td>26</td>\n      <td>8.80</td>\n      <td>205959</td>\n    </tr>\n    <tr>\n      <th>27</th>\n      <td>21939</td>\n      <td>Mushishi Zoku Shou</td>\n      <td>Adventure, Fantasy, Historical, Mystery, Seine...</td>\n      <td>TV</td>\n      <td>10</td>\n      <td>8.80</td>\n      <td>101351</td>\n    </tr>\n    <tr>\n      <th>28</th>\n      <td>457</td>\n      <td>Mushishi</td>\n      <td>Adventure, Fantasy, Historical, Mystery, Seine...</td>\n      <td>TV</td>\n      <td>26</td>\n      <td>8.78</td>\n      <td>300030</td>\n    </tr>\n    <tr>\n      <th>29</th>\n      <td>2001</td>\n      <td>Tengen Toppa Gurren Lagann</td>\n      <td>Action, Adventure, Comedy, Mecha, Sci-Fi</td>\n      <td>TV</td>\n      <td>27</td>\n      <td>8.78</td>\n      <td>562962</td>\n    </tr>\n    <tr>\n      <th>30</th>\n      <td>245</td>\n      <td>Great Teacher Onizuka</td>\n      <td>Comedy, Drama, School, Shounen, Slice of Life</td>\n      <td>TV</td>\n      <td>43</td>\n      <td>8.77</td>\n      <td>268487</td>\n    </tr>\n    <tr>\n      <th>31</th>\n      <td>32983</td>\n      <td>Natsume Yuujinchou Go</td>\n      <td>Drama, Fantasy, Shoujo, Slice of Life, Superna...</td>\n      <td>TV</td>\n      <td>13</td>\n      <td>8.76</td>\n      <td>38865</td>\n    </tr>\n    <tr>\n      <th>32</th>\n      <td>5258</td>\n      <td>Hajime no Ippo: New Challenger</td>\n      <td>Comedy, Drama, Shounen, Sports</td>\n      <td>TV</td>\n      <td>26</td>\n      <td>8.75</td>\n      <td>88995</td>\n    </tr>\n    <tr>\n      <th>33</th>\n      <td>28957</td>\n      <td>Mushishi Zoku Shou: Suzu no Shizuku</td>\n      <td>Adventure, Fantasy, Historical, Mystery, Seine...</td>\n      <td>Movie</td>\n      <td>1</td>\n      <td>8.75</td>\n      <td>32266</td>\n    </tr>\n    <tr>\n      <th>34</th>\n      <td>11665</td>\n      <td>Natsume Yuujinchou Shi</td>\n      <td>Drama, Fantasy, Shoujo, Slice of Life, Superna...</td>\n      <td>TV</td>\n      <td>13</td>\n      <td>8.75</td>\n      <td>98431</td>\n    </tr>\n    <tr>\n      <th>35</th>\n      <td>431</td>\n      <td>Howl no Ugoku Shiro</td>\n      <td>Adventure, Drama, Fantasy, Romance</td>\n      <td>Movie</td>\n      <td>1</td>\n      <td>8.74</td>\n      <td>333186</td>\n    </tr>\n    <tr>\n      <th>36</th>\n      <td>11741</td>\n      <td>Fate/Zero 2nd Season</td>\n      <td>Action, Fantasy, Supernatural, Thriller</td>\n      <td>TV</td>\n      <td>12</td>\n      <td>8.73</td>\n      <td>340973</td>\n    </tr>\n    <tr>\n      <th>37</th>\n      <td>31757</td>\n      <td>Kizumonogatari II: Nekketsu-hen</td>\n      <td>Action, Mystery, Supernatural, Vampire</td>\n      <td>Movie</td>\n      <td>1</td>\n      <td>8.73</td>\n      <td>34347</td>\n    </tr>\n    <tr>\n      <th>38</th>\n      <td>19</td>\n      <td>Monster</td>\n      <td>Drama, Horror, Mystery, Police, Psychological,...</td>\n      <td>TV</td>\n      <td>74</td>\n      <td>8.72</td>\n      <td>247562</td>\n    </tr>\n    <tr>\n      <th>39</th>\n      <td>12365</td>\n      <td>Bakuman. 3rd Season</td>\n      <td>Comedy, Drama, Romance, Shounen</td>\n      <td>TV</td>\n      <td>25</td>\n      <td>8.71</td>\n      <td>133620</td>\n    </tr>\n    <tr>\n      <th>40</th>\n      <td>1535</td>\n      <td>Death Note</td>\n      <td>Mystery, Police, Psychological, Supernatural, ...</td>\n      <td>TV</td>\n      <td>37</td>\n      <td>8.71</td>\n      <td>1013917</td>\n    </tr>\n    <tr>\n      <th>41</th>\n      <td>32366</td>\n      <td>Gintama°: Aizome Kaori-hen</td>\n      <td>Comedy, Parody</td>\n      <td>OVA</td>\n      <td>2</td>\n      <td>8.69</td>\n      <td>16947</td>\n    </tr>\n    <tr>\n      <th>42</th>\n      <td>30654</td>\n      <td>Ansatsu Kyoushitsu (TV) 2nd Season</td>\n      <td>Action, Comedy, School, Shounen</td>\n      <td>TV</td>\n      <td>25</td>\n      <td>8.68</td>\n      <td>176475</td>\n    </tr>\n    <tr>\n      <th>43</th>\n      <td>20583</td>\n      <td>Haikyuu!!</td>\n      <td>Comedy, Drama, School, Shounen, Sports</td>\n      <td>TV</td>\n      <td>25</td>\n      <td>8.68</td>\n      <td>284498</td>\n    </tr>\n    <tr>\n      <th>44</th>\n      <td>19647</td>\n      <td>Hajime no Ippo: Rising</td>\n      <td>Comedy, Drama, Shounen, Sports</td>\n      <td>TV</td>\n      <td>25</td>\n      <td>8.68</td>\n      <td>66756</td>\n    </tr>\n    <tr>\n      <th>45</th>\n      <td>4282</td>\n      <td>Kara no Kyoukai 5: Mujun Rasen</td>\n      <td>Action, Drama, Mystery, Romance, Supernatural,...</td>\n      <td>Movie</td>\n      <td>1</td>\n      <td>8.68</td>\n      <td>111074</td>\n    </tr>\n    <tr>\n      <th>46</th>\n      <td>10379</td>\n      <td>Natsume Yuujinchou San</td>\n      <td>Drama, Fantasy, Shoujo, Slice of Life, Superna...</td>\n      <td>TV</td>\n      <td>13</td>\n      <td>8.67</td>\n      <td>102322</td>\n    </tr>\n    <tr>\n      <th>47</th>\n      <td>22135</td>\n      <td>Ping Pong The Animation</td>\n      <td>Psychological, Seinen, Sports</td>\n      <td>TV</td>\n      <td>11</td>\n      <td>8.67</td>\n      <td>97187</td>\n    </tr>\n    <tr>\n      <th>48</th>\n      <td>21329</td>\n      <td>Mushishi Special: Hihamukage</td>\n      <td>Adventure, Fantasy, Historical, Mystery, Seine...</td>\n      <td>Special</td>\n      <td>1</td>\n      <td>8.66</td>\n      <td>49036</td>\n    </tr>\n    <tr>\n      <th>49</th>\n      <td>31043</td>\n      <td>Boku dake ga Inai Machi</td>\n      <td>Mystery, Psychological, Seinen, Supernatural</td>\n      <td>TV</td>\n      <td>12</td>\n      <td>8.65</td>\n      <td>402381</td>\n    </tr>\n  </tbody>\n</table>\n</div>"
          },
          "metadata": {}
        }
      ]
    },
    {
      "cell_type": "code",
      "source": "anime.info()",
      "metadata": {
        "trusted": true
      },
      "execution_count": 3,
      "outputs": [
        {
          "name": "stdout",
          "text": "<class 'pandas.core.frame.DataFrame'>\nRangeIndex: 12294 entries, 0 to 12293\nData columns (total 7 columns):\n #   Column    Non-Null Count  Dtype  \n---  ------    --------------  -----  \n 0   anime_id  12294 non-null  int64  \n 1   name      12294 non-null  object \n 2   genre     12232 non-null  object \n 3   type      12269 non-null  object \n 4   episodes  12294 non-null  object \n 5   rating    12064 non-null  float64\n 6   members   12294 non-null  int64  \ndtypes: float64(1), int64(2), object(4)\nmemory usage: 480.3+ KB\n",
          "output_type": "stream"
        }
      ]
    },
    {
      "cell_type": "code",
      "source": "anime.describe()",
      "metadata": {
        "trusted": true
      },
      "execution_count": 2,
      "outputs": [
        {
          "execution_count": 2,
          "output_type": "execute_result",
          "data": {
            "text/plain": "           anime_id        rating       members\ncount  12294.000000  12064.000000  1.229400e+04\nmean   14058.221653      6.473902  1.807134e+04\nstd    11455.294701      1.026746  5.482068e+04\nmin        1.000000      1.670000  5.000000e+00\n25%     3484.250000      5.880000  2.250000e+02\n50%    10260.500000      6.570000  1.550000e+03\n75%    24794.500000      7.180000  9.437000e+03\nmax    34527.000000     10.000000  1.013917e+06",
            "text/html": "<div>\n<style scoped>\n    .dataframe tbody tr th:only-of-type {\n        vertical-align: middle;\n    }\n\n    .dataframe tbody tr th {\n        vertical-align: top;\n    }\n\n    .dataframe thead th {\n        text-align: right;\n    }\n</style>\n<table border=\"1\" class=\"dataframe\">\n  <thead>\n    <tr style=\"text-align: right;\">\n      <th></th>\n      <th>anime_id</th>\n      <th>rating</th>\n      <th>members</th>\n    </tr>\n  </thead>\n  <tbody>\n    <tr>\n      <th>count</th>\n      <td>12294.000000</td>\n      <td>12064.000000</td>\n      <td>1.229400e+04</td>\n    </tr>\n    <tr>\n      <th>mean</th>\n      <td>14058.221653</td>\n      <td>6.473902</td>\n      <td>1.807134e+04</td>\n    </tr>\n    <tr>\n      <th>std</th>\n      <td>11455.294701</td>\n      <td>1.026746</td>\n      <td>5.482068e+04</td>\n    </tr>\n    <tr>\n      <th>min</th>\n      <td>1.000000</td>\n      <td>1.670000</td>\n      <td>5.000000e+00</td>\n    </tr>\n    <tr>\n      <th>25%</th>\n      <td>3484.250000</td>\n      <td>5.880000</td>\n      <td>2.250000e+02</td>\n    </tr>\n    <tr>\n      <th>50%</th>\n      <td>10260.500000</td>\n      <td>6.570000</td>\n      <td>1.550000e+03</td>\n    </tr>\n    <tr>\n      <th>75%</th>\n      <td>24794.500000</td>\n      <td>7.180000</td>\n      <td>9.437000e+03</td>\n    </tr>\n    <tr>\n      <th>max</th>\n      <td>34527.000000</td>\n      <td>10.000000</td>\n      <td>1.013917e+06</td>\n    </tr>\n  </tbody>\n</table>\n</div>"
          },
          "metadata": {}
        }
      ]
    },
    {
      "cell_type": "code",
      "source": "anime_dup = anime[anime.duplicated()]\nprint(anime_dup)",
      "metadata": {
        "trusted": true
      },
      "execution_count": 5,
      "outputs": [
        {
          "name": "stdout",
          "text": "Empty DataFrame\nColumns: [anime_id, name, genre, type, episodes, rating, members]\nIndex: []\n",
          "output_type": "stream"
        }
      ]
    },
    {
      "cell_type": "code",
      "source": "type_values = anime['type'].value_counts()\nprint(type_values)",
      "metadata": {
        "trusted": true
      },
      "execution_count": 6,
      "outputs": [
        {
          "name": "stdout",
          "text": "TV         3787\nOVA        3311\nMovie      2348\nSpecial    1676\nONA         659\nMusic       488\nName: type, dtype: int64\n",
          "output_type": "stream"
        }
      ]
    },
    {
      "cell_type": "code",
      "source": "m = anime['members'].quantile(0.75)\nprint(m)",
      "metadata": {
        "trusted": true
      },
      "execution_count": 4,
      "outputs": [
        {
          "name": "stdout",
          "text": "9437.0\n",
          "output_type": "stream"
        }
      ]
    },
    {
      "cell_type": "code",
      "source": "qualified_anime = anime.copy().loc[anime['members']>m]\nC = anime['rating'].mean()\ndef WR(x,C=C, m=m):\n    v = x['members']\n    R = x['rating']\n    return (v/(v+m)*R)+(m/(v+m)*C)\nqualified_anime['score'] = WR(qualified_anime)\nqualified_anime.sort_values('score', ascending =False)\nqualified_anime.head(1)",
      "metadata": {
        "trusted": true
      },
      "execution_count": 5,
      "outputs": [
        {
          "execution_count": 5,
          "output_type": "execute_result",
          "data": {
            "text/plain": "   anime_id            name                                 genre   type  \\\n0     32281  Kimi no Na wa.  Drama, Romance, School, Supernatural  Movie   \n\n  episodes  rating  members     score  \n0        1    9.37   200630  9.239896  ",
            "text/html": "<div>\n<style scoped>\n    .dataframe tbody tr th:only-of-type {\n        vertical-align: middle;\n    }\n\n    .dataframe tbody tr th {\n        vertical-align: top;\n    }\n\n    .dataframe thead th {\n        text-align: right;\n    }\n</style>\n<table border=\"1\" class=\"dataframe\">\n  <thead>\n    <tr style=\"text-align: right;\">\n      <th></th>\n      <th>anime_id</th>\n      <th>name</th>\n      <th>genre</th>\n      <th>type</th>\n      <th>episodes</th>\n      <th>rating</th>\n      <th>members</th>\n      <th>score</th>\n    </tr>\n  </thead>\n  <tbody>\n    <tr>\n      <th>0</th>\n      <td>32281</td>\n      <td>Kimi no Na wa.</td>\n      <td>Drama, Romance, School, Supernatural</td>\n      <td>Movie</td>\n      <td>1</td>\n      <td>9.37</td>\n      <td>200630</td>\n      <td>9.239896</td>\n    </tr>\n  </tbody>\n</table>\n</div>"
          },
          "metadata": {}
        }
      ]
    },
    {
      "cell_type": "code",
      "source": "import pandas as pd\nfrom sklearn.feature_extraction.text import TfidfVectorizer\nfrom sklearn.metrics.pairwise import linear_kernel\n\n# Step 1: Load the data\nanime = pd.read_csv('anime.csv')\n\n# Step 2: Data Preprocessing\nanime['genre'] = anime['genre'].fillna('')  # Fill missing genre values with an empty string\nanime['rating'] = anime['rating'].fillna(0)  # Fill missing rating values with 0\n\n# Step 3: Feature Selection\n# Combine the 'genre' and 'rating' columns into a single feature for recommendation\nanime['features'] = anime['genre'] + ' ' + anime['rating'].astype(str)\n\n# Step 4: Calculate Item Similarity\ntfidf_vectorizer = TfidfVectorizer()\ntfidf_matrix = tfidf_vectorizer.fit_transform(anime['features'])\n\ncosine_sim = linear_kernel(tfidf_matrix, tfidf_matrix)\n\n# Step 5: Get Anime Recommendations\ndef get_recommendations(anime_title, cosine_sim=cosine_sim, anime=anime, top_n=5):\n    idx = anime.index[anime['name'] == anime_title].tolist()[0]\n    similar_scores = list(enumerate(cosine_sim[idx]))\n    similar_scores = sorted(similar_scores, key=lambda x: x[1], reverse=True)\n    top_similar_indices = [i for i, _ in similar_scores if i != idx][:top_n]\n    return anime.iloc[top_similar_indices]\n\n# Example: Get top 5 anime recommendations for the anime with the title 'Naruto'\nrecommendations = get_recommendations('Naruto')\nprint(recommendations[['name', 'genre', 'rating']])\n",
      "metadata": {
        "trusted": true
      },
      "execution_count": 1,
      "outputs": [
        {
          "name": "stdout",
          "text": "                                                   name  \\\n7867                                    Iron Virgin Jun   \n1573  Naruto: Shippuuden Movie 3 - Hi no Ishi wo Tsu...   \n1930                                  Dragon Ball Super   \n4067                     Ikkitousen: Extravaganza Epoch   \n3038                                       Tenjou Tenge   \n\n                                                  genre  rating  \n7867  Action, Comedy, Fantasy, Martial Arts, Super P...    4.81  \n1573  Action, Comedy, Martial Arts, Shounen, Super P...    7.50  \n1930  Action, Adventure, Comedy, Fantasy, Martial Ar...    7.40  \n4067  Action, Ecchi, Martial Arts, School, Seinen, S...    6.81  \n3038  Action, Comedy, Ecchi, Martial Arts, School, S...    7.10  \n",
          "output_type": "stream"
        }
      ]
    },
    {
      "cell_type": "code",
      "source": "import pandas as pd\nfrom sklearn.feature_extraction.text import TfidfVectorizer\nfrom sklearn.decomposition import TruncatedSVD\nfrom sklearn.metrics.pairwise import linear_kernel\nfrom IPython.display import display, HTML\n\n\nanime = pd.read_csv('anime.csv')\n\n\nanime['genre'] = anime['genre'].fillna('')\nanime['rating'] = anime['rating'].fillna(0)\nanime['features'] = anime['genre'].str.lower() + ' ' + anime['rating'].astype(str).str.replace(' ', '')\n\ntfidf_vectorizer = TfidfVectorizer()\ntfidf_matrix = tfidf_vectorizer.fit_transform(anime['features'])\n\n\nsvd = TruncatedSVD(n_components=100)\ntfidf_matrix_reduced = svd.fit_transform(tfidf_matrix)\n\n\ndef get_recommendations(anime_title, tfidf_matrix_reduced=tfidf_matrix_reduced, anime=anime, top_n=5):\n    anime_title = anime_title.lower()\n    idx = anime.index[anime['name'].str.lower() == anime_title].tolist()[0]\n    query_vector = tfidf_matrix_reduced[idx].reshape(1, -1)\n    cosine_sim = linear_kernel(query_vector, tfidf_matrix_reduced)\n    \n    similar_scores = list(enumerate(cosine_sim[0]))\n    similar_scores = sorted(similar_scores, key=lambda x: x[1], reverse=True)\n    top_similar_indices = [i for i, _ in similar_scores if i != idx][:top_n]\n    return anime.iloc[top_similar_indices][['name', 'genre', 'rating']]\n\n# Example: Get top 5 anime recommendations for the anime with the title 'Naruto'\nrecommendations = get_recommendations('naruto')\n\n# Function to create HTML table from recommendations\ndef create_html_table(dataframe):\n    html = \"<table>\"\n    # Header row\n    html += \"<tr>\"\n    for col in dataframe.columns:\n        html += \"<th>{}</th>\".format(col)\n    html += \"</tr>\"\n    # Data rows\n    for _, row in dataframe.iterrows():\n        html += \"<tr>\"\n        for val in row.values:\n            html += \"<td>{}</td>\".format(val)\n        html += \"</tr>\"\n    html += \"</table>\"\n    return html\n\n# Display the recommendations in an HTML table in the notebook output\ndisplay(HTML(create_html_table(recommendations)))\n",
      "metadata": {
        "trusted": true
      },
      "execution_count": 20,
      "outputs": [
        {
          "output_type": "display_data",
          "data": {
            "text/plain": "<IPython.core.display.HTML object>",
            "text/html": "<table><tr><th>name</th><th>genre</th><th>rating</th></tr><tr><td>Iron Virgin Jun</td><td>Action, Comedy, Fantasy, Martial Arts, Super Power</td><td>4.81</td></tr><tr><td>Naruto: Shippuuden Movie 3 - Hi no Ishi wo Tsugu Mono</td><td>Action, Comedy, Martial Arts, Shounen, Super Power</td><td>7.5</td></tr><tr><td>Dragon Ball Super</td><td>Action, Adventure, Comedy, Fantasy, Martial Arts, Shounen, Super Power</td><td>7.4</td></tr><tr><td>Ikkitousen: Extravaganza Epoch</td><td>Action, Ecchi, Martial Arts, School, Seinen, Super Power</td><td>6.81</td></tr><tr><td>Tenjou Tenge</td><td>Action, Comedy, Ecchi, Martial Arts, School, Shounen, Super Power</td><td>7.1</td></tr></table>"
          },
          "metadata": {}
        }
      ]
    },
    {
      "cell_type": "code",
      "source": "",
      "metadata": {},
      "execution_count": null,
      "outputs": []
    }
  ]
}